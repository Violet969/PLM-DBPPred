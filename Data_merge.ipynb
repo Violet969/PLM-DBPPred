{
 "cells": [
  {
   "cell_type": "code",
   "execution_count": null,
   "id": "fd33c44a-44ae-4198-9a5e-5413dbb68249",
   "metadata": {},
   "outputs": [],
   "source": [
    "import os\n",
    "import pandas as pd\n",
    "import numpy as np\n"
   ]
  },
  {
   "cell_type": "code",
   "execution_count": null,
   "id": "c0e233f2-36c7-476d-b7ec-9eb1e57d1c58",
   "metadata": {},
   "outputs": [],
   "source": [
    "##change the path of each csv file\n",
    "#origion seq\n",
    "DBP_ori= pd.read_csv(FILE_DIR +'Your_ori.csv',index_col=0)\n",
    "#ProtT5\n",
    "DBP_protTrans = pd.read_csv('protTrans_prediction_result.csv',index_col=0)\n",
    "DBP_protTrans = DBP_protTrans.rename(columns={'predict_result':'protTrans_pred'})\n",
    "DBP_protTrans = DBP_protTrans.drop(['protein_ID'],axis=1)\n",
    "\n",
    "#ESM\n",
    "DBP_ESM = pd.read_csv('DBP_ESM.csv',index_col=0)\n",
    "DBP_ESM = DBP_ESM.rename(columns={'predict_result':'ESM30_pred'})\n",
    "\n",
    "#proteinBERT\n",
    "DBP_proteinBERT = pd.read_csv('DBP_proteinBERT.csv',index_col=0)\n",
    "DBP_proteinBERT = DBP_proteinBERT.rename(columns={'y_preds':'proteinBERT_pred'})\n",
    "\n",
    "DBP_merge = DBP_ESM.merge(DBP_proteinBERT,on='protein_ID').merge(DBP_ori,on='protein_ID').merge(DBP_protTrans,on='sequence',how='outer')\n",
    "DBP_merge['three_average']= (DBP_merge['ESM30_pred']+DBP_merge['proteinBERT_pred']+DBP_merge['protTrans_pred'])/3\n",
    "DBP_merge\n"
   ]
  },
  {
   "cell_type": "code",
   "execution_count": null,
   "id": "ab311af0-46e8-4a0d-8405-3900447d6142",
   "metadata": {},
   "outputs": [],
   "source": [
    "DBP_merge.to_csv('DBP_your_name.csv',index=False)"
   ]
  },
  {
   "cell_type": "code",
   "execution_count": null,
   "id": "3b31e960-67fc-4e47-87e0-ab72db105b1a",
   "metadata": {},
   "outputs": [],
   "source": [
    "DBP_merge[DBP_merge['three_average']>0.5]"
   ]
  }
 ],
 "metadata": {
  "kernelspec": {
   "display_name": "Python 3 (ipykernel)",
   "language": "python",
   "name": "python3"
  },
  "language_info": {
   "codemirror_mode": {
    "name": "ipython",
    "version": 3
   },
   "file_extension": ".py",
   "mimetype": "text/x-python",
   "name": "python",
   "nbconvert_exporter": "python",
   "pygments_lexer": "ipython3",
   "version": "3.9.12"
  }
 },
 "nbformat": 4,
 "nbformat_minor": 5
}
