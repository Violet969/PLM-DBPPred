{
 "cells": [
  {
   "cell_type": "code",
   "execution_count": null,
   "id": "fd39cb32-e5e2-45c6-ad63-3800de63c0a7",
   "metadata": {},
   "outputs": [],
   "source": [
    "\n",
    "import os\n",
    "\n",
    "import pandas as pd\n",
    "from IPython.display import display\n",
    "\n",
    "from tensorflow import keras\n",
    "\n",
    "from sklearn.model_selection import train_test_split\n",
    "\n",
    "from proteinbert import OutputType, OutputSpec, FinetuningModelGenerator, load_pretrained_model, finetune, evaluate_by_len\n",
    "from proteinbert.conv_and_global_attention_model import get_model_with_hidden_layers_as_outputs\n"
   ]
  },
  {
   "cell_type": "code",
   "execution_count": 2,
   "id": "7ab7e329-e274-45c7-9f9e-b926e7b50669",
   "metadata": {},
   "outputs": [],
   "source": [
    "import pickle\n",
    "\n",
    "with open('./DBP_model_param/model_attention.pt', 'rb') as f:\n",
    "    model_generator = pickle.load(f)\n",
    "with open('./DBP_model_param/model_input_encoder_attention.pt', 'rb') as f:\n",
    "    input_encoder = pickle.load(f)\n",
    "with open('./DBP_model_param/model_OUTPUT_SPEC_attention.pt', 'rb') as f:\n",
    "    OUTPUT_SPEC = pickle.load(f)\n"
   ]
  },
  {
   "cell_type": "code",
   "execution_count": 3,
   "id": "ddb74386-ad9b-448f-9df4-9f8deb778480",
   "metadata": {},
   "outputs": [],
   "source": [
    "os.environ['CUDA_VISIBLE_DEVICES'] = '1'"
   ]
  },
  {
   "cell_type": "code",
   "execution_count": null,
   "id": "9bc77cb7-b559-4a11-b1df-5129ae94a009",
   "metadata": {},
   "outputs": [],
   "source": [
    "test_set = pd.read_csv('./datasets/DBP_Predict_PDB.test.csv').dropna().drop_duplicates()\n",
    "\n",
    "X_test,y_preds,y_trues,results, confusion_matrix = evaluate_by_len(model_generator, input_encoder, OUTPUT_SPEC, test_set['protein_ID'],test_set['seq'], test_set['label'], \\\n",
    "        start_seq_len = 512, start_batch_size = 32)\n",
    "\n",
    "print('Test-set performance:')\n",
    "display(results)\n",
    "\n",
    "print('Confusion matrix:')\n",
    "display(confusion_matrix)\n",
    "\n"
   ]
  },
  {
   "cell_type": "code",
   "execution_count": 5,
   "id": "73d7f95f-0bcf-4d24-bb85-64145943d716",
   "metadata": {},
   "outputs": [],
   "source": [
    "dataframe_512 = pd.DataFrame()\n",
    "dataframe_1024 = pd.DataFrame()\n",
    "dataframe_2048 = pd.DataFrame()\n",
    "\n",
    "dataframe_512['protein_ID'] = X_test[0]\n",
    "dataframe_512['y_preds'] = y_preds[0]\n",
    "dataframe_512['y_trues'] = y_trues[0]\n",
    "dataframe_1024['protein_ID'] = X_test[1]\n",
    "dataframe_1024['y_preds'] = y_preds[1]\n",
    "dataframe_1024['y_trues'] = y_trues[1]\n",
    "dataframe_2048['protein_ID'] = X_test[2]\n",
    "dataframe_2048['y_preds'] = y_preds[2]\n",
    "dataframe_2048['y_trues'] = y_trues[2]\n",
    "\n",
    "dataframe = pd.concat([dataframe_512,dataframe_1024,dataframe_2048])\n",
    "dataframe.to_csv('./PLM-DBPPred_predict_result.csv')"
   ]
  },
  {
   "cell_type": "code",
   "execution_count": 6,
   "id": "1e831c8a-22f1-486e-914d-4aaebbdb7c7e",
   "metadata": {},
   "outputs": [
    {
     "data": {
      "text/html": [
       "<div>\n",
       "<style scoped>\n",
       "    .dataframe tbody tr th:only-of-type {\n",
       "        vertical-align: middle;\n",
       "    }\n",
       "\n",
       "    .dataframe tbody tr th {\n",
       "        vertical-align: top;\n",
       "    }\n",
       "\n",
       "    .dataframe thead th {\n",
       "        text-align: right;\n",
       "    }\n",
       "</style>\n",
       "<table border=\"1\" class=\"dataframe\">\n",
       "  <thead>\n",
       "    <tr style=\"text-align: right;\">\n",
       "      <th></th>\n",
       "      <th>AUC</th>\n",
       "      <th>Accuracy</th>\n",
       "      <th>precision</th>\n",
       "      <th>recall_score</th>\n",
       "      <th>f1_score</th>\n",
       "      <th>sensitivity</th>\n",
       "      <th>specificity</th>\n",
       "    </tr>\n",
       "  </thead>\n",
       "  <tbody>\n",
       "    <tr>\n",
       "      <th>0</th>\n",
       "      <td>0.851533</td>\n",
       "      <td>0.791667</td>\n",
       "      <td>0.866109</td>\n",
       "      <td>0.69</td>\n",
       "      <td>0.768089</td>\n",
       "      <td>0.69</td>\n",
       "      <td>0.893333</td>\n",
       "    </tr>\n",
       "  </tbody>\n",
       "</table>\n",
       "</div>"
      ],
      "text/plain": [
       "        AUC  Accuracy  precision  recall_score  f1_score  sensitivity  \\\n",
       "0  0.851533  0.791667   0.866109          0.69  0.768089         0.69   \n",
       "\n",
       "   specificity  \n",
       "0     0.893333  "
      ]
     },
     "execution_count": 6,
     "metadata": {},
     "output_type": "execute_result"
    }
   ],
   "source": [
    "from scipy.stats import spearmanr\n",
    "from sklearn.metrics import roc_auc_score, accuracy_score, confusion_matrix,precision_score,recall_score,f1_score\n",
    "import numpy as np\n",
    "\n",
    "y_pred = np.array(dataframe['y_preds'])\n",
    "# print(y_pred)\n",
    "\n",
    "y_true = dataframe['y_trues'].values\n",
    "\n",
    "y_pred_classes = (y_pred >= 0.5)\n",
    "y_true_classes = (y_true >= 0.5)\n",
    "\n",
    "# print(y_pred_classes)\n",
    "# print(y_true_classes)\n",
    "results = pd.DataFrame()\n",
    "results['AUC'] = [roc_auc_score(y_true, y_pred)]\n",
    "results['Accuracy'] = [accuracy_score(y_true, y_pred_classes)]\n",
    "results['precision'] = [precision_score(y_true, y_pred_classes)]\n",
    "results['recall_score'] = [recall_score(y_true, y_pred_classes)]\n",
    "results['f1_score'] = [f1_score(y_true, y_pred_classes)]\n",
    "\n",
    "tn, fp, fn, tp = confusion_matrix(y_true,y_pred_classes).ravel()\n",
    "\n",
    "results['sensitivity'] = [tp / (tp + fn)]\n",
    "results['specificity'] = [tn / (tn + fp)]\n",
    "\n",
    "confusion_matrix = pd.DataFrame(confusion_matrix(y_true,y_pred_classes))\n",
    "confusion_matrix\n",
    "results\n"
   ]
  },
  {
   "cell_type": "code",
   "execution_count": null,
   "id": "7684de24-b540-4b50-a6b3-5c4553d7d5d0",
   "metadata": {},
   "outputs": [],
   "source": []
  }
 ],
 "metadata": {
  "kernelspec": {
   "display_name": "“alphafold_2”",
   "language": "python",
   "name": "alphafold_2"
  },
  "language_info": {
   "codemirror_mode": {
    "name": "ipython",
    "version": 3
   },
   "file_extension": ".py",
   "mimetype": "text/x-python",
   "name": "python",
   "nbconvert_exporter": "python",
   "pygments_lexer": "ipython3",
   "version": "3.8.0"
  }
 },
 "nbformat": 4,
 "nbformat_minor": 5
}
