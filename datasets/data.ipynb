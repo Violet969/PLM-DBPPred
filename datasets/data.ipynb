{
 "cells": [
  {
   "cell_type": "code",
   "execution_count": null,
   "id": "836c0d5b-2fca-441d-8313-50aa42f538ee",
   "metadata": {},
   "outputs": [],
   "source": [
    "import os\n",
    "\n",
    "ROOT_DIR = os.getcwd()+'/'\n",
    "print(ROOT_DIR)\n",
    "FILE_DIR = ROOT_DIR+'Uniprot_data/'"
   ]
  },
  {
   "cell_type": "code",
   "execution_count": null,
   "id": "e4eefc3a-a387-46b3-b4ea-076478180679",
   "metadata": {},
   "outputs": [],
   "source": [
    "#fasta to csv\n",
    "DBP = FILE_DIR +'DBP.fasta'\n",
    "NDBP = 'NDBP.fasta'\n",
    "def fasta_to_csv(fasta_file, csv_file):\n",
    "    sequences = []\n",
    "    headers = []\n",
    "\n",
    "    with open(fasta_file, 'r') as file:\n",
    "        lines = file.readlines()\n",
    "\n",
    "    current_sequence = ''\n",
    "    current_header = ''\n",
    "\n",
    "    for line in lines:\n",
    "        line = line.strip()\n",
    "        if line.startswith('>'):\n",
    "            \n",
    "            if current_header != '':\n",
    "                headers.append(current_header)\n",
    "                sequences.append(current_sequence)\n",
    "                current_sequence = ''\n",
    "\n",
    "            current_header = line[1:]\n",
    "        else:\n",
    "            \n",
    "            current_sequence += line  \n",
    "    headers.append(current_header)\n",
    "    sequences.append(current_sequence)\n",
    "\n",
    "    with open(csv_file, 'w') as file:\n",
    "        file.write('Header,Sequence\\n')\n",
    "        for header, sequence in zip(headers, sequences):\n",
    "            file.write(f'{header},{sequence}\\n')\n",
    "    print(f'save to {csv_file}')\n",
    "\n",
    "fasta_to_csv(DBP,FILE_DIR +'DBP.csv')\n",
    "fasta_to_csv(NDBP,FILE_DIR +'NDBP.csv')\n",
    "\n"
   ]
  },
  {
   "cell_type": "code",
   "execution_count": null,
   "id": "e31de7b0-3bad-4ffc-8f16-f7ea30e7a639",
   "metadata": {},
   "outputs": [],
   "source": [
    "import pandas as pd\n",
    "\n",
    "DBP_csv = pd.read_csv(FILE_DIR +'DBP.csv',index_col=0)\n",
    "DBP_csv['label'] = 1\n",
    "NDBP_csv = pd.read_csv(FILE_DIR +'NDBP.csv',index_col=0)\n",
    "NDBP_csv['label'] = 0\n",
    "solubilty_seq_data= pd.concat([DBP_csv,NDBP_csv])\n",
    "solubilty_seq_data = solubilty_seq_data.sample(frac=1)\n",
    "solubilty_seq_data.to_csv(FILE_DIR +'DBP_Predict.csv')"
   ]
  }
 ],
 "metadata": {
  "kernelspec": {
   "display_name": "Python 3 (ipykernel)",
   "language": "python",
   "name": "python3"
  },
  "language_info": {
   "codemirror_mode": {
    "name": "ipython",
    "version": 3
   },
   "file_extension": ".py",
   "mimetype": "text/x-python",
   "name": "python",
   "nbconvert_exporter": "python",
   "pygments_lexer": "ipython3",
   "version": "3.9.12"
  }
 },
 "nbformat": 4,
 "nbformat_minor": 5
}
