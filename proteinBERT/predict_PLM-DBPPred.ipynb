{
 "cells": [
  {
   "cell_type": "code",
   "execution_count": null,
   "id": "fd39cb32-e5e2-45c6-ad63-3800de63c0a7",
   "metadata": {},
   "outputs": [],
   "source": [
    "# The examples in this notebook use a set of nine benchmarks described in our publication.\n",
    "# These benchmarks can be downloaded via FTP from: ftp.cs.huji.ac.il/users/nadavb/protein_bert/protein_benchmarks\n",
    "# Download the benchmarks into a directory on your machine and set the following variable to the path of that directory.\n",
    "\n",
    "import os\n",
    "\n",
    "import pandas as pd\n",
    "from IPython.display import display\n",
    "\n",
    "from tensorflow import keras\n",
    "\n",
    "from sklearn.model_selection import train_test_split\n",
    "\n",
    "from proteinbert import OutputType, OutputSpec, FinetuningModelGenerator, load_pretrained_model, finetune, evaluate_by_len_prediction\n",
    "from proteinbert.conv_and_global_attention_model import get_model_with_hidden_layers_as_outputs\n"
   ]
  },
  {
   "cell_type": "code",
   "execution_count": null,
   "id": "7ab7e329-e274-45c7-9f9e-b926e7b50669",
   "metadata": {},
   "outputs": [],
   "source": [
    "import pickle\n",
    "\n",
    "with open('./DBP_model_param/model_attention.pt', 'rb') as f:\n",
    "    model_generator = pickle.load(f)\n",
    "with open('./DBP_model_param/model_input_encoder_attention.pt', 'rb') as f:\n",
    "    input_encoder = pickle.load(f)\n",
    "with open('./DBP_model_param/model_OUTPUT_SPEC_attention.pt', 'rb') as f:\n",
    "    OUTPUT_SPEC = pickle.load(f)\n"
   ]
  },
  {
   "cell_type": "code",
   "execution_count": null,
   "id": "ddb74386-ad9b-448f-9df4-9f8deb778480",
   "metadata": {},
   "outputs": [],
   "source": [
    "os.environ['CUDA_VISIBLE_DEVICES'] = '1'"
   ]
  },
  {
   "cell_type": "code",
   "execution_count": null,
   "id": "6d12e217-f821-4110-b291-ef6e65d5a18c",
   "metadata": {},
   "outputs": [],
   "source": [
    "test_set = pd.read_csv('./datasets/DBP_Predict_PDB.test.csv').dropna().drop_duplicates()\n",
    "\n",
    "X_test,y_preds = evaluate_by_len_prediction(model_generator, input_encoder, OUTPUT_SPEC, test_set['protein_ID'],test_set['Sequence'], \\\n",
    "        start_seq_len = 512, start_batch_size = 1)\n"
   ]
  },
  {
   "cell_type": "code",
   "execution_count": null,
   "id": "73d7f95f-0bcf-4d24-bb85-64145943d716",
   "metadata": {},
   "outputs": [],
   "source": [
    "dataframe_512 = pd.DataFrame()\n",
    "dataframe_1024 = pd.DataFrame()\n",
    "dataframe_2048 = pd.DataFrame()\n",
    "dataframe_4096 = pd.DataFrame()\n",
    "dataframe_8192 = pd.DataFrame()\n",
    "dataframe_16384 = pd.DataFrame()\n",
    "dataframe_32768 = pd.DataFrame()\n",
    "dataframe_65536 = pd.DataFrame()\n",
    "\n",
    "dataframe_512['protein_ID'] = X_test[0]\n",
    "dataframe_512['y_preds'] = y_preds[0]\n",
    "\n",
    "dataframe_1024['protein_ID'] = X_test[1]\n",
    "dataframe_1024['y_preds'] = y_preds[1]\n",
    "\n",
    "dataframe_2048['protein_ID'] = X_test[2]\n",
    "dataframe_2048['y_preds'] = y_preds[2]\n",
    "\n",
    "# dataframe_4096['protein_ID'] = X_test[3]\n",
    "# dataframe_4096['y_preds'] = y_preds[3]\n",
    "\n",
    "\n",
    "\n",
    "\n",
    "dataframe = pd.concat([dataframe_512,dataframe_1024,dataframe_2048])\n",
    "dataframe"
   ]
  },
  {
   "cell_type": "code",
   "execution_count": null,
   "id": "1e831c8a-22f1-486e-914d-4aaebbdb7c7e",
   "metadata": {},
   "outputs": [],
   "source": [
    "dataframe.to_csv('need_231010_DBP_proteinBERT.csv')\n"
   ]
  },
  {
   "cell_type": "code",
   "execution_count": null,
   "id": "d92d09fe-16d3-4d47-bba3-fd928f0e52fe",
   "metadata": {},
   "outputs": [],
   "source": []
  }
 ],
 "metadata": {
  "kernelspec": {
   "display_name": "“alphafold_2”",
   "language": "python",
   "name": "alphafold_2"
  },
  "language_info": {
   "codemirror_mode": {
    "name": "ipython",
    "version": 3
   },
   "file_extension": ".py",
   "mimetype": "text/x-python",
   "name": "python",
   "nbconvert_exporter": "python",
   "pygments_lexer": "ipython3",
   "version": "3.8.0"
  }
 },
 "nbformat": 4,
 "nbformat_minor": 5
}
